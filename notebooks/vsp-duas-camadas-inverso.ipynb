{
 "metadata": {
  "name": "",
  "signature": "sha256:250609d96b6ddda48f13385114cdfe48506ca7687d7fa2da85fc9a264a757c83"
 },
 "nbformat": 3,
 "nbformat_minor": 0,
 "worksheets": [
  {
   "cells": [
    {
     "cell_type": "markdown",
     "metadata": {},
     "source": [
      "# Invers\u00e3o VSP simples com 2 camadas"
     ]
    },
    {
     "cell_type": "markdown",
     "metadata": {},
     "source": [
      "## Calcula a matriz de sensibilidade"
     ]
    },
    {
     "cell_type": "code",
     "collapsed": false,
     "input": [
      "%matplotlib inline\n",
      "from __future__ import division\n",
      "from IPython.html.widgets import interactive, fixed\n",
      "from IPython.display import display\n",
      "import numpy as np\n",
      "import matplotlib.pyplot as plt\n",
      "plt.rc('font', size=12)"
     ],
     "language": "python",
     "metadata": {},
     "outputs": []
    },
    {
     "cell_type": "code",
     "collapsed": false,
     "input": [
      "def sensibilidade(h):\n",
      "    ndados = 4\n",
      "    nparametros = 2\n",
      "    A = np.empty((ndados, nparametros))\n",
      "    A[:, 0] = [h/2, h, h, h]\n",
      "    A[:, 1] = [0, 0, h/2, h]\n",
      "    return A"
     ],
     "language": "python",
     "metadata": {},
     "outputs": []
    },
    {
     "cell_type": "code",
     "collapsed": false,
     "input": [
      "h = 10"
     ],
     "language": "python",
     "metadata": {},
     "outputs": []
    },
    {
     "cell_type": "code",
     "collapsed": false,
     "input": [
      "A = sensibilidade(h)\n",
      "A"
     ],
     "language": "python",
     "metadata": {},
     "outputs": []
    },
    {
     "cell_type": "markdown",
     "metadata": {},
     "source": [
      "## Estimativa de m\u00ednimos quadrados"
     ]
    },
    {
     "cell_type": "code",
     "collapsed": false,
     "input": [
      "ATA = np.dot(A.T, A)\n",
      "ATA"
     ],
     "language": "python",
     "metadata": {},
     "outputs": []
    },
    {
     "cell_type": "code",
     "collapsed": false,
     "input": [
      "z, dado = np.loadtxt('vsp-2camadas-dados.txt')"
     ],
     "language": "python",
     "metadata": {},
     "outputs": []
    },
    {
     "cell_type": "code",
     "collapsed": false,
     "input": [
      "p = np.linalg.solve(ATA, np.dot(A.T, dado))\n",
      "1/p"
     ],
     "language": "python",
     "metadata": {},
     "outputs": []
    },
    {
     "cell_type": "code",
     "collapsed": false,
     "input": [
      "with open('vsp-2camadas-resultado.txt') as f:\n",
      "    print(f.read())"
     ],
     "language": "python",
     "metadata": {},
     "outputs": []
    },
    {
     "cell_type": "code",
     "collapsed": false,
     "input": [
      "t_predito = np.dot(A, p)\n",
      "t_predito"
     ],
     "language": "python",
     "metadata": {},
     "outputs": []
    },
    {
     "cell_type": "code",
     "collapsed": false,
     "input": [
      "def plota_dados(z, t, t_predito, h):\n",
      "    fig = plt.figure(figsize=(8, 6))\n",
      "    ax = plt.axes()\n",
      "    lims = [0.5*t.min(), 1.2*t.max()]\n",
      "    ax.fill_between(lims, [h, h], y2=z.max(), color='grey', alpha=0.5)\n",
      "    ax.plot(t, z, '^-k', linewidth=2, markersize=10, markerfacecolor='b', \n",
      "            label='Observado')\n",
      "    if t_predito is not None:\n",
      "        ax.plot(t_predito, z, 'o--r', linewidth=2, label='Predito')\n",
      "    ax.set_ylim(0, 1.2*z.max())\n",
      "    ax.set_xlim(lims)\n",
      "    ax.legend(loc='upper right', numpoints=1)\n",
      "    ax.invert_yaxis()\n",
      "    ax.set_xlabel('Tempo de chegada (s)')\n",
      "    ax.set_ylabel('Profuncidade (m)')\n",
      "    return ax"
     ],
     "language": "python",
     "metadata": {},
     "outputs": []
    },
    {
     "cell_type": "code",
     "collapsed": false,
     "input": [
      "ax = plota_dados(z, dado, t_predito, h)"
     ],
     "language": "python",
     "metadata": {},
     "outputs": []
    },
    {
     "cell_type": "markdown",
     "metadata": {},
     "source": [
      "## Efeito do ru\u00eddo e dos valores de V1 e V2"
     ]
    },
    {
     "cell_type": "code",
     "collapsed": false,
     "input": [
      "def gera_dados(v1, v2, h):\n",
      "    z = np.array([h/2, h, 3*h/2, 2*h])\n",
      "    distancia_em_1 = np.array([h/2, h, h, h])\n",
      "    distancia_em_2 = np.array([0, 0, h/2, h])\n",
      "    t = distancia_em_1/v1 + distancia_em_2/v2\n",
      "    return z, t"
     ],
     "language": "python",
     "metadata": {},
     "outputs": []
    },
    {
     "cell_type": "code",
     "collapsed": false,
     "input": [
      "def inverte_plota(v1, v2, ruido, A):\n",
      "    z, t = gera_dados(v1, v2, h)\n",
      "    if ruido > 0:\n",
      "        ruido = np.abs(t).max()*0.01*ruido\n",
      "        np.random.seed(0)\n",
      "        t += np.random.normal(loc=0, scale=ruido, size=t.size)\n",
      "        np.random.seed()\n",
      "    p = np.linalg.solve(np.dot(A.T, A), np.dot(A.T, t))\n",
      "    ax = plota_dados(z, t, np.dot(A, p), h)\n",
      "    ax.set_title('V1={:.2f} | V2={:.2f}'.format(1/p[0], 1/p[1]))\n",
      "    return 1/p"
     ],
     "language": "python",
     "metadata": {},
     "outputs": []
    },
    {
     "cell_type": "code",
     "collapsed": false,
     "input": [
      "widget = interactive(inverte_plota, v1=(100, 4000, 100), v2=(100, 4000, 100), \n",
      "                     ruido=(0, 50, 1), A=fixed(sensibilidade(h)))\n",
      "display(widget)"
     ],
     "language": "python",
     "metadata": {},
     "outputs": []
    },
    {
     "cell_type": "code",
     "collapsed": false,
     "input": [],
     "language": "python",
     "metadata": {},
     "outputs": []
    }
   ],
   "metadata": {}
  }
 ]
}