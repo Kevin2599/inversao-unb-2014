{
 "metadata": {
  "name": "",
  "signature": "sha256:632d600a4478db2871f692b01a30c20d2dca7f82c49f07ae8bc8dad525851ecc"
 },
 "nbformat": 3,
 "nbformat_minor": 0,
 "worksheets": [
  {
   "cells": [
    {
     "cell_type": "markdown",
     "metadata": {},
     "source": [
      "**Course website**: https://github.com/pinga-lab/inversao-unb-2014\n",
      "\n",
      "**Note**: This notebook is part of the course \"T\u00f3picos de invers\u00e3o em geof\u00edsica\". \n",
      "All content can be freely used and adapted under the terms of the \n",
      "[Creative Commons Attribution 4.0 International License](http://creativecommons.org/licenses/by/4.0/).\n",
      "\n",
      "![Creative Commons License](https://i.creativecommons.org/l/by/4.0/88x31.png)"
     ]
    },
    {
     "cell_type": "markdown",
     "metadata": {},
     "source": [
      "# Pr\u00e1tica: Invers\u00e3o VSP para v\u00e1rias camadas"
     ]
    },
    {
     "cell_type": "markdown",
     "metadata": {},
     "source": [
      "## Rela\u00e7\u00e3o funcional e gera\u00e7\u00e3o de dados sint\u00e9ticos"
     ]
    },
    {
     "cell_type": "code",
     "collapsed": false,
     "input": [
      "%matplotlib inline\n",
      "from __future__ import division\n",
      "from IPython.html.widgets import interactive, fixed\n",
      "from IPython.display import display\n",
      "import numpy as np\n",
      "import matplotlib.pyplot as plt\n",
      "plt.rc('font', size=12)"
     ],
     "language": "python",
     "metadata": {},
     "outputs": []
    },
    {
     "cell_type": "code",
     "collapsed": false,
     "input": [
      "espessura = np.array([10, 30, 5, 20])\n",
      "velocidade = np.array([1000, 2000, 1500, 2200])"
     ],
     "language": "python",
     "metadata": {},
     "outputs": []
    },
    {
     "cell_type": "code",
     "collapsed": false,
     "input": [
      "zc = np.array([sum(espessura[:i + 1]) for i in xrange(len(espessura))])\n",
      "zc"
     ],
     "language": "python",
     "metadata": {},
     "outputs": []
    },
    {
     "cell_type": "code",
     "collapsed": false,
     "input": [
      "z = np.arange(1, zc[-2] + 15, 1.5)\n",
      "z"
     ],
     "language": "python",
     "metadata": {},
     "outputs": []
    },
    {
     "cell_type": "code",
     "collapsed": false,
     "input": [
      "def gera_dado(z, espessura, zc, velocidade):\n",
      "    t = np.empty_like(z)\n",
      "    for i in xrange(len(z)):\n",
      "        inteira = zc <= z[i]\n",
      "        esp_inteira = espessura[inteira]\n",
      "        vel_inteira = velocidade[inteira]\n",
      "        vel_ultima = velocidade[~inteira][0]\n",
      "        t[i] = sum(e/v for e, v in zip(esp_inteira, vel_inteira))\n",
      "        t[i] += (z[i] - sum(e for e in esp_inteira))/vel_ultima\n",
      "    return t"
     ],
     "language": "python",
     "metadata": {},
     "outputs": []
    },
    {
     "cell_type": "code",
     "collapsed": false,
     "input": [
      "t = gera_dado(z, espessura, zc, velocidade)\n",
      "t"
     ],
     "language": "python",
     "metadata": {},
     "outputs": []
    },
    {
     "cell_type": "code",
     "collapsed": false,
     "input": [
      "def plot_dados(z, t, zc, espessura, velocidade, vrange=None):\n",
      "    pad = 0.1*t.max()\n",
      "    xlim = [t.min() - pad, t.max() + pad]\n",
      "    colors = plt.cm.Blues(np.linspace(0, 1, len(velocidade)))\n",
      "    # Duas figuras: z x tempo e z x velocidade\n",
      "    fig, axes = plt.subplots(1, 2, sharey='all', figsize=(10, 5))\n",
      "    ax = axes[0]\n",
      "    for k, e, c in zip(zc, espessura, colors):\n",
      "        ax.fill_between(xlim, k - e, k, color=c)\n",
      "    ax.plot(t, z, 'o-k', markersize=5, linewidth=2)\n",
      "    ax.set_xlim(xlim)\n",
      "    ax.set_ylim(0, zc.max())\n",
      "    ax.invert_yaxis()\n",
      "    ax.set_xlabel('Tempo de percurso (s)')\n",
      "    ax.set_ylabel('Profundidade (m)')\n",
      "    ax.grid()\n",
      "    ax = axes[1]\n",
      "    if vrange is None:\n",
      "        pad = 0.1*velocidade.max()\n",
      "        vrange = [velocidade.min() - pad, velocidade.max() + pad]\n",
      "    for k, e, c in zip(zc, espessura, colors):\n",
      "        ax.fill_between(vrange, k - e, k, color=c)\n",
      "    x = np.transpose([velocidade, velocidade]).ravel()\n",
      "    y = np.transpose([zc - espessura, zc]).ravel()\n",
      "    ax.plot(x, y, 'o-k', markersize=5, linewidth=2)\n",
      "    ax.set_xlim(vrange)\n",
      "    ax.set_xlabel('Velocidade (m/s)')\n",
      "    ax.grid()\n",
      "    plt.tight_layout(pad=0, w_pad=0, h_pad=0)\n",
      "    plt.subplots_adjust(wspace=0)\n",
      "    return axes"
     ],
     "language": "python",
     "metadata": {},
     "outputs": []
    },
    {
     "cell_type": "code",
     "collapsed": false,
     "input": [
      "plot_dados(z, t, zc, espessura, velocidade)"
     ],
     "language": "python",
     "metadata": {},
     "outputs": []
    },
    {
     "cell_type": "code",
     "collapsed": false,
     "input": [
      "def gerador_sintetico(z, zc, espessura):\n",
      "    vrange = (50, 5000, 50)\n",
      "    def calcula_plota(v1, v2, v3, v4, ruido):\n",
      "        velocidade = np.array([v1, v2, v3, v4])\n",
      "        t = gera_dado(z, espessura, zc, velocidade)\n",
      "        if ruido > 0:\n",
      "            np.random.seed(0)\n",
      "            ruido = ruido*0.01*np.abs(t).max()\n",
      "            t += np.random.normal(loc=0, scale=ruido, size=t.size)\n",
      "            np.random.seed()\n",
      "        plot_dados(z, t, zc, espessura, velocidade, vrange=vrange[:2])\n",
      "        return t\n",
      "    widget = interactive(calcula_plota, v1=vrange, v2=vrange, v3=vrange, v4=vrange, ruido=(0, 10, 1))\n",
      "    return widget"
     ],
     "language": "python",
     "metadata": {},
     "outputs": []
    },
    {
     "cell_type": "code",
     "collapsed": false,
     "input": [
      "widget = gerador_sintetico(z, zc, espessura)\n",
      "display(widget)"
     ],
     "language": "python",
     "metadata": {},
     "outputs": []
    },
    {
     "cell_type": "code",
     "collapsed": false,
     "input": [
      "dado = widget.result\n",
      "vel_verdadeira = np.array([widget.kwargs['v{}'.format(i + 1)] for i in range(len(espessura))])\n",
      "dado, vel_verdadeira"
     ],
     "language": "python",
     "metadata": {},
     "outputs": []
    },
    {
     "cell_type": "markdown",
     "metadata": {},
     "source": [
      "## Matriz de sensibilidade"
     ]
    },
    {
     "cell_type": "code",
     "collapsed": false,
     "input": [
      "def sensibilidade(z, espessura, zc):\n",
      "    ndados, nparametros = len(z), len(espessura)\n",
      "    A = np.zeros((ndados, nparametros))\n",
      "    for i in xrange(len(z)):\n",
      "        inteira = zc <= z[i]\n",
      "        A[i, inteira] = espessura[inteira]\n",
      "        ultima = z[i] - sum(e for e in espessura[inteira])\n",
      "        A[i, sum(inteira)] = ultima\n",
      "    return A"
     ],
     "language": "python",
     "metadata": {},
     "outputs": []
    },
    {
     "cell_type": "code",
     "collapsed": false,
     "input": [
      "A = sensibilidade(z, espessura, zc)\n",
      "A"
     ],
     "language": "python",
     "metadata": {},
     "outputs": []
    },
    {
     "cell_type": "markdown",
     "metadata": {},
     "source": [
      "## Estimativa de m\u00ednimos quadrados"
     ]
    },
    {
     "cell_type": "code",
     "collapsed": false,
     "input": [
      "ATA = np.dot(A.T, A)\n",
      "ATA"
     ],
     "language": "python",
     "metadata": {},
     "outputs": []
    },
    {
     "cell_type": "code",
     "collapsed": false,
     "input": [
      "p = np.linalg.solve(ATA, np.dot(A.T, dado))\n",
      "1/p"
     ],
     "language": "python",
     "metadata": {},
     "outputs": []
    },
    {
     "cell_type": "code",
     "collapsed": false,
     "input": [
      "t_predito = np.dot(A, p)\n",
      "t_predito"
     ],
     "language": "python",
     "metadata": {},
     "outputs": []
    },
    {
     "cell_type": "code",
     "collapsed": false,
     "input": [
      "ax1, ax2 = plot_dados(z, t_predito, zc, espessura, 1/p)\n",
      "ax1.plot(dado, z, 'or', linewidth=2)\n",
      "x = np.transpose([vel_verdadeira, vel_verdadeira]).ravel()\n",
      "y = np.transpose([zc - espessura, zc]).ravel()\n",
      "ax2.plot(x, y, 'o--r', linewidth=2)"
     ],
     "language": "python",
     "metadata": {},
     "outputs": []
    },
    {
     "cell_type": "markdown",
     "metadata": {},
     "source": [
      "## Sensibilidade ao erro, n\u00famero de dados e velocidades reais"
     ]
    },
    {
     "cell_type": "code",
     "collapsed": false,
     "input": [
      "def invertedor(zc, espessura):\n",
      "    vrange = (50, 5000, 50)\n",
      "    def calcula_plota(n, v1, v2, v3, v4, ruido):\n",
      "        # Gera o dado sintetico\n",
      "        z = np.linspace(1, zc[-2] + 15, n)\n",
      "        velocidade = np.array([v1, v2, v3, v4])\n",
      "        t = gera_dado(z, espessura, zc, velocidade)\n",
      "        if ruido > 0:\n",
      "            np.random.seed(0)\n",
      "            ruido = ruido*0.01*np.abs(t).max()\n",
      "            t += np.random.normal(loc=0, scale=ruido, size=t.size)\n",
      "            np.random.seed()\n",
      "        # Calcula a solucao de minimos quadrados\n",
      "        A = sensibilidade(z, espessura, zc)\n",
      "        p = np.linalg.solve(np.dot(A.T, A), np.dot(A.T, t))\n",
      "        t_predito = np.dot(A, p)\n",
      "        # Plota os resultados\n",
      "        ax1, ax2 = plot_dados(z, t_predito, zc, espessura, 1/p, vrange=vrange[:2])\n",
      "        ax1.plot(t, z, 'or', linewidth=2)\n",
      "        x = np.transpose([velocidade, velocidade]).ravel()\n",
      "        y = np.transpose([zc - espessura, zc]).ravel()\n",
      "        ax2.plot(x, y, 'o--r', linewidth=2)\n",
      "        return p\n",
      "    widget = interactive(calcula_plota, n=(10, 150, 10), \n",
      "                         v1=vrange, v2=vrange, v3=vrange, v4=vrange, \n",
      "                         ruido=(0, 15, 1))\n",
      "    return widget"
     ],
     "language": "python",
     "metadata": {},
     "outputs": []
    },
    {
     "cell_type": "code",
     "collapsed": false,
     "input": [
      "invertedor(zc, espessura)"
     ],
     "language": "python",
     "metadata": {},
     "outputs": []
    }
   ],
   "metadata": {}
  }
 ]
}