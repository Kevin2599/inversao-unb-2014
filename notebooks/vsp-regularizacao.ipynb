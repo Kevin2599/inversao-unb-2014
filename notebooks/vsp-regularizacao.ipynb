{
 "metadata": {
  "name": "",
  "signature": "sha256:f0be87b261dab94bfd326230ae5289d9121c1421783e9f3b22cf20337c6ddc6a"
 },
 "nbformat": 3,
 "nbformat_minor": 0,
 "worksheets": [
  {
   "cells": [
    {
     "cell_type": "markdown",
     "metadata": {},
     "source": [
      "**Course website**: https://github.com/pinga-lab/inversao-unb-2014\n",
      "\n",
      "**Note**: This notebook is part of the course \"T\u00f3picos de invers\u00e3o em geof\u00edsica\". \n",
      "All content can be freely used and adapted under the terms of the \n",
      "[Creative Commons Attribution 4.0 International License](http://creativecommons.org/licenses/by/4.0/).\n",
      "\n",
      "![Creative Commons License](https://i.creativecommons.org/l/by/4.0/88x31.png)"
     ]
    },
    {
     "cell_type": "markdown",
     "metadata": {},
     "source": [
      "# Pr\u00e1tica: Regulariza\u00e7\u00e3o no problema de VSP para v\u00e1rias camadas"
     ]
    },
    {
     "cell_type": "markdown",
     "metadata": {},
     "source": [
      "## Rela\u00e7\u00e3o funcional e matriz de sensibilidade"
     ]
    },
    {
     "cell_type": "code",
     "collapsed": false,
     "input": [
      "%matplotlib inline\n",
      "from __future__ import division\n",
      "from IPython.html.widgets import interactive, fixed\n",
      "from IPython.display import display\n",
      "import numpy as np\n",
      "import matplotlib.pyplot as plt\n",
      "plt.rc('font', size=12)"
     ],
     "language": "python",
     "metadata": {},
     "outputs": []
    },
    {
     "cell_type": "code",
     "collapsed": false,
     "input": [
      "espessura = np.array([10, 30, 5, 20])\n",
      "velocidade = np.array([1000, 2000, 800, 2200])\n",
      "zc = np.array([sum(espessura[:i + 1]) for i in xrange(len(espessura))])\n",
      "z = np.linspace(1, zc[-2] + 15, 50)"
     ],
     "language": "python",
     "metadata": {},
     "outputs": []
    },
    {
     "cell_type": "code",
     "collapsed": false,
     "input": [
      "def gera_dado(z, espessura, zc, velocidade):\n",
      "    t = np.empty_like(z)\n",
      "    for i in xrange(len(z)):\n",
      "        inteira = zc <= z[i]\n",
      "        esp_inteira = espessura[inteira]\n",
      "        vel_inteira = velocidade[inteira]\n",
      "        vel_ultima = velocidade[~inteira][0]\n",
      "        t[i] = sum(e/v for e, v in zip(esp_inteira, vel_inteira))\n",
      "        t[i] += (z[i] - sum(e for e in esp_inteira))/vel_ultima\n",
      "    return t"
     ],
     "language": "python",
     "metadata": {},
     "outputs": []
    },
    {
     "cell_type": "code",
     "collapsed": false,
     "input": [
      "t_puro = gera_dado(z, espessura, zc, velocidade)\n",
      "np.random.seed(0)\n",
      "ruido = 0.01*np.abs(t_puro).max()\n",
      "t = t_puro + np.random.normal(loc=0, scale=ruido, size=t_puro.size)\n",
      "np.random.seed()"
     ],
     "language": "python",
     "metadata": {},
     "outputs": []
    },
    {
     "cell_type": "code",
     "collapsed": false,
     "input": [
      "def plot_dados(z, t, zc, espessura, velocidade, vrange=None):\n",
      "    pad = 0.1*t.max()\n",
      "    xlim = [t.min() - pad, t.max() + pad]\n",
      "    colors = plt.cm.Blues(np.linspace(0, 1, len(velocidade)))\n",
      "    # Duas figuras: z x tempo e z x velocidade\n",
      "    fig, axes = plt.subplots(1, 2, sharey='all', figsize=(10, 5))\n",
      "    ax = axes[0]\n",
      "    for k, e, c in zip(zc, espessura, colors):\n",
      "        ax.fill_between(xlim, k - e, k, color=c)\n",
      "    ax.plot(t, z, 'o-k', markersize=5, linewidth=2)\n",
      "    ax.set_xlim(xlim)\n",
      "    ax.set_ylim(0, zc.max())\n",
      "    ax.invert_yaxis()\n",
      "    ax.set_xlabel('Tempo de percurso (s)')\n",
      "    ax.set_ylabel('Profundidade (m)')\n",
      "    ax.grid()\n",
      "    ax = axes[1]\n",
      "    if vrange is None:\n",
      "        pad = 0.1*velocidade.max()\n",
      "        vrange = [velocidade.min() - pad, velocidade.max() + pad]\n",
      "    for k, e, c in zip(zc, espessura, colors):\n",
      "        ax.fill_between(vrange, k - e, k, color=c)\n",
      "    x = np.transpose([velocidade, velocidade]).ravel()\n",
      "    y = np.transpose([zc - espessura, zc]).ravel()\n",
      "    ax.plot(x, y, 'o-k', markersize=5, linewidth=2)\n",
      "    ax.set_xlim(vrange)\n",
      "    ax.set_xlabel('Velocidade (m/s)')\n",
      "    ax.grid()\n",
      "    plt.tight_layout(pad=0, w_pad=0, h_pad=0)\n",
      "    plt.subplots_adjust(wspace=0)\n",
      "    return axes"
     ],
     "language": "python",
     "metadata": {},
     "outputs": []
    },
    {
     "cell_type": "code",
     "collapsed": false,
     "input": [
      "plot_dados(z, t, zc, espessura, velocidade)"
     ],
     "language": "python",
     "metadata": {},
     "outputs": []
    },
    {
     "cell_type": "code",
     "collapsed": false,
     "input": [
      "def sensibilidade(z, espessura, zc):\n",
      "    ndados, nparametros = len(z), len(espessura)\n",
      "    A = np.zeros((ndados, nparametros))\n",
      "    for i in xrange(len(z)):\n",
      "        inteira = zc <= z[i]\n",
      "        A[i, inteira] = espessura[inteira]\n",
      "        if any(~inteira):\n",
      "            ultima = z[i] - sum(e for e in espessura[inteira])\n",
      "            A[i, sum(inteira)] = ultima\n",
      "    return A"
     ],
     "language": "python",
     "metadata": {},
     "outputs": []
    },
    {
     "cell_type": "code",
     "collapsed": false,
     "input": [
      "nparametros = 15\n",
      "espessura_igual = z.max()/nparametros*np.ones(nparametros)\n",
      "zc_igual = np.array([sum(espessura_igual[:i + 1]) for i in xrange(len(espessura_igual))])"
     ],
     "language": "python",
     "metadata": {},
     "outputs": []
    },
    {
     "cell_type": "code",
     "collapsed": false,
     "input": [
      "A = sensibilidade(z, espessura_igual, zc_igual)"
     ],
     "language": "python",
     "metadata": {},
     "outputs": []
    },
    {
     "cell_type": "code",
     "collapsed": false,
     "input": [
      "print(np.array2string(A, precision=2, max_line_width=150))"
     ],
     "language": "python",
     "metadata": {},
     "outputs": []
    },
    {
     "cell_type": "markdown",
     "metadata": {},
     "source": [
      "## Estimativa de m\u00ednimos quadrados inst\u00e1vel"
     ]
    },
    {
     "cell_type": "code",
     "collapsed": false,
     "input": [
      "ATA = np.dot(A.T, A)"
     ],
     "language": "python",
     "metadata": {},
     "outputs": []
    },
    {
     "cell_type": "code",
     "collapsed": false,
     "input": [
      "print(np.array2string(ATA, precision=2, max_line_width=140))"
     ],
     "language": "python",
     "metadata": {},
     "outputs": []
    },
    {
     "cell_type": "code",
     "collapsed": false,
     "input": [
      "p = np.linalg.solve(ATA, np.dot(A.T, t))\n",
      "t_predito = np.dot(A, p)"
     ],
     "language": "python",
     "metadata": {},
     "outputs": []
    },
    {
     "cell_type": "code",
     "collapsed": false,
     "input": [
      "ax1, ax2 = plot_dados(z, t_predito, zc_igual, espessura_igual, 1/p)\n",
      "ax1.plot(t, z, 'or', linewidth=2)\n",
      "x = np.transpose([velocidade, velocidade]).ravel()\n",
      "y = np.transpose([zc - espessura, zc]).ravel()\n",
      "ax2.plot(x, y, 'o--r', linewidth=2)"
     ],
     "language": "python",
     "metadata": {},
     "outputs": []
    },
    {
     "cell_type": "code",
     "collapsed": false,
     "input": [
      "def invertedor_igual(z, t_puro, zc, espessura, velocidade):\n",
      "    vrange = (50, 4000, 50)\n",
      "    def calcula_plota(nparametros, seed):\n",
      "        np.random.seed(seed)\n",
      "        ruido = 0.01*np.abs(t_puro).max()\n",
      "        t = t_puro + np.random.normal(loc=0, scale=ruido, size=t_puro.size)\n",
      "        np.random.seed()\n",
      "        # Define o modelo interpretativo\n",
      "        espessura_igual = z.max()/nparametros*np.ones(nparametros)\n",
      "        zc_igual = np.array([sum(espessura_igual[:i + 1]) for i in xrange(len(espessura_igual))])\n",
      "        # Calcula a solucao de minimos quadrados\n",
      "        A = sensibilidade(z, espessura_igual, zc_igual)\n",
      "        p = np.linalg.solve(np.dot(A.T, A), np.dot(A.T, t))\n",
      "        t_predito = np.dot(A, p)\n",
      "        # Plota os resultados\n",
      "        ax1, ax2 = plot_dados(z, t_predito, zc_igual, espessura_igual, \n",
      "                              1/p, vrange=vrange[:2])\n",
      "        ax1.plot(t, z, 'or', linewidth=2)\n",
      "        x = np.transpose([velocidade, velocidade]).ravel()\n",
      "        y = np.transpose([zc - espessura, zc]).ravel()\n",
      "        ax2.plot(x, y, 'o--r', linewidth=2)\n",
      "        return p\n",
      "    widget = interactive(calcula_plota, nparametros=(1, 50, 1), seed=(0, 10, 1))\n",
      "    return widget"
     ],
     "language": "python",
     "metadata": {},
     "outputs": []
    },
    {
     "cell_type": "code",
     "collapsed": false,
     "input": [
      "invertedor_igual(z, t_puro, zc, espessura, velocidade)"
     ],
     "language": "python",
     "metadata": {},
     "outputs": []
    },
    {
     "cell_type": "markdown",
     "metadata": {},
     "source": [
      "## Regulariza\u00e7\u00e3o: Tikhonov ordem 0 (Damping)"
     ]
    },
    {
     "cell_type": "code",
     "collapsed": false,
     "input": [
      "mi = 10\n",
      "I = np.eye(nparametros)\n",
      "print(np.array2string(I, max_line_width=150))"
     ],
     "language": "python",
     "metadata": {},
     "outputs": []
    },
    {
     "cell_type": "code",
     "collapsed": false,
     "input": [
      "p = np.linalg.solve(ATA + mi*I, np.dot(A.T, t))\n",
      "1/p"
     ],
     "language": "python",
     "metadata": {},
     "outputs": []
    },
    {
     "cell_type": "code",
     "collapsed": false,
     "input": [
      "t_predito = np.dot(A, p)"
     ],
     "language": "python",
     "metadata": {},
     "outputs": []
    },
    {
     "cell_type": "code",
     "collapsed": false,
     "input": [
      "ax1, ax2 = plot_dados(z, t_predito, zc_igual, espessura_igual, 1/p)\n",
      "ax1.plot(t, z, 'or', linewidth=2)\n",
      "x = np.transpose([velocidade, velocidade]).ravel()\n",
      "y = np.transpose([zc - espessura, zc]).ravel()\n",
      "ax2.plot(x, y, 'o--r', linewidth=2)"
     ],
     "language": "python",
     "metadata": {},
     "outputs": []
    },
    {
     "cell_type": "code",
     "collapsed": false,
     "input": [
      "def invertedor_tiko0_igual(z, t_puro, zc, espessura, velocidade):\n",
      "    vrange = (50, 4000, 50)\n",
      "    def calcula_plota(nparametros, mi, seed):\n",
      "        np.random.seed(seed)\n",
      "        ruido = 0.01*np.abs(t_puro).max()\n",
      "        t = t_puro + np.random.normal(loc=0, scale=ruido, size=t_puro.size)\n",
      "        np.random.seed()\n",
      "        # Define o modelo interpretativo\n",
      "        espessura_igual = z.max()/nparametros*np.ones(nparametros)\n",
      "        zc_igual = np.array([sum(espessura_igual[:i + 1]) for i in xrange(len(espessura_igual))])\n",
      "        # Calcula a solucao de minimos quadrados\n",
      "        A = sensibilidade(z, espessura_igual, zc_igual)\n",
      "        p = np.linalg.solve(np.dot(A.T, A) + mi*np.eye(nparametros), np.dot(A.T, t))\n",
      "        t_predito = np.dot(A, p)\n",
      "        # Plota os resultados\n",
      "        ax1, ax2 = plot_dados(z, t_predito, zc_igual, espessura_igual, \n",
      "                              1/p, vrange=vrange[:2])\n",
      "        ax1.plot(t, z, 'or', linewidth=2)\n",
      "        x = np.transpose([velocidade, velocidade]).ravel()\n",
      "        y = np.transpose([zc - espessura, zc]).ravel()\n",
      "        ax2.plot(x, y, 'o--r', linewidth=2)\n",
      "        return p\n",
      "    widget = interactive(calcula_plota, nparametros=(1, 50, 1), seed=(0, 10, 1), mi=(0, 100, 1))\n",
      "    return widget"
     ],
     "language": "python",
     "metadata": {},
     "outputs": []
    },
    {
     "cell_type": "code",
     "collapsed": false,
     "input": [
      "invertedor_tiko0_igual(z, t_puro, zc, espessura, velocidade)"
     ],
     "language": "python",
     "metadata": {},
     "outputs": []
    },
    {
     "cell_type": "markdown",
     "metadata": {},
     "source": [
      "## Regulariza\u00e7\u00e3o: Tikhonov ordem 1 (Suavidade)"
     ]
    },
    {
     "cell_type": "code",
     "collapsed": false,
     "input": [
      "def derivadas(nparametros):\n",
      "    nderivadas = nparametros - 1\n",
      "    R = np.zeros((nderivadas, nparametros))\n",
      "    linhas = range(nderivadas)\n",
      "    uns = range(nderivadas)\n",
      "    R[linhas, uns] = 1\n",
      "    menos_uns = range(1, nparametros)\n",
      "    R[linhas, menos_uns] = -1\n",
      "    return R"
     ],
     "language": "python",
     "metadata": {},
     "outputs": []
    },
    {
     "cell_type": "code",
     "collapsed": false,
     "input": [
      "R = derivadas(nparametros)\n",
      "print(np.array2string(R, max_line_width=150, suppress_small=True))"
     ],
     "language": "python",
     "metadata": {},
     "outputs": []
    },
    {
     "cell_type": "code",
     "collapsed": false,
     "input": [
      "RTR = np.dot(R.T, R)\n",
      "print(np.array2string(RTR, max_line_width=150, suppress_small=True))"
     ],
     "language": "python",
     "metadata": {},
     "outputs": []
    },
    {
     "cell_type": "code",
     "collapsed": false,
     "input": [
      "mi = 10\n",
      "p = np.linalg.solve(ATA + mi*RTR, np.dot(A.T, t))\n",
      "1/p"
     ],
     "language": "python",
     "metadata": {},
     "outputs": []
    },
    {
     "cell_type": "code",
     "collapsed": false,
     "input": [
      "t_predito = np.dot(A, p)"
     ],
     "language": "python",
     "metadata": {},
     "outputs": []
    },
    {
     "cell_type": "code",
     "collapsed": false,
     "input": [
      "ax1, ax2 = plot_dados(z, t_predito, zc_igual, espessura_igual, 1/p)\n",
      "ax1.plot(t, z, 'or', linewidth=2)\n",
      "x = np.transpose([velocidade, velocidade]).ravel()\n",
      "y = np.transpose([zc - espessura, zc]).ravel()\n",
      "ax2.plot(x, y, 'o--r', linewidth=2)"
     ],
     "language": "python",
     "metadata": {},
     "outputs": []
    },
    {
     "cell_type": "code",
     "collapsed": false,
     "input": [
      "def invertedor_tiko1_igual(z, t_puro, zc, espessura, velocidade):\n",
      "    vrange = (50, 4000, 50)\n",
      "    def calcula_plota(nparametros, mi, seed):\n",
      "        np.random.seed(seed)\n",
      "        ruido = 0.01*np.abs(t_puro).max()\n",
      "        t = t_puro + np.random.normal(loc=0, scale=ruido, size=t_puro.size)\n",
      "        np.random.seed()\n",
      "        # Define o modelo interpretativo\n",
      "        espessura_igual = z.max()/nparametros*np.ones(nparametros)\n",
      "        zc_igual = np.array([sum(espessura_igual[:i + 1]) for i in xrange(len(espessura_igual))])\n",
      "        # Calcula a solucao de minimos quadrados\n",
      "        A = sensibilidade(z, espessura_igual, zc_igual)\n",
      "        R = derivadas(nparametros)\n",
      "        RTR = np.dot(R.T, R)\n",
      "        p = np.linalg.solve(np.dot(A.T, A) + mi*RTR, np.dot(A.T, t))\n",
      "        t_predito = np.dot(A, p)\n",
      "        # Plota os resultados\n",
      "        ax1, ax2 = plot_dados(z, t_predito, zc_igual, espessura_igual, \n",
      "                              1/p, vrange=vrange[:2])\n",
      "        ax1.plot(t, z, 'or', linewidth=2)\n",
      "        x = np.transpose([velocidade, velocidade]).ravel()\n",
      "        y = np.transpose([zc - espessura, zc]).ravel()\n",
      "        ax2.plot(x, y, 'o--r', linewidth=2)\n",
      "        return p\n",
      "    widget = interactive(calcula_plota, nparametros=(1, 50, 1), mi=(0, 100, 1), seed=(0, 10, 1))\n",
      "    return widget"
     ],
     "language": "python",
     "metadata": {},
     "outputs": []
    },
    {
     "cell_type": "code",
     "collapsed": false,
     "input": [
      "invertedor_tiko1_igual(z, t_puro, zc, espessura, velocidade)"
     ],
     "language": "python",
     "metadata": {},
     "outputs": []
    },
    {
     "cell_type": "code",
     "collapsed": false,
     "input": [],
     "language": "python",
     "metadata": {},
     "outputs": []
    }
   ],
   "metadata": {}
  }
 ]
}