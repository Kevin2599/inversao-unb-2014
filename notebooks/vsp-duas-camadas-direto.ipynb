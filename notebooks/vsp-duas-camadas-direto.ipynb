{
 "metadata": {
  "name": "",
  "signature": "sha256:238c6de1010a369728388497fe24407936e9525fb802c035d26183ead77e8c6a"
 },
 "nbformat": 3,
 "nbformat_minor": 0,
 "worksheets": [
  {
   "cells": [
    {
     "cell_type": "markdown",
     "metadata": {},
     "source": [
      "**Course website**: https://github.com/pinga-lab/inversao-unb-2014\n",
      "\n",
      "**Note**: This notebook is part of the course \"T\u00f3picos de invers\u00e3o em geof\u00edsica\". \n",
      "All content can be freely used and adapted under the terms of the \n",
      "[Creative Commons Attribution 4.0 International License](http://creativecommons.org/licenses/by/4.0/).\n",
      "\n",
      "![Creative Commons License](https://i.creativecommons.org/l/by/4.0/88x31.png)"
     ]
    },
    {
     "cell_type": "markdown",
     "metadata": {},
     "source": [
      "# Pr\u00e1tica: Modelagem direta VSP simples com 2 camadas"
     ]
    },
    {
     "cell_type": "markdown",
     "metadata": {},
     "source": [
      "## A rela\u00e7\u00e3o funcional $d = f(p)$"
     ]
    },
    {
     "cell_type": "code",
     "collapsed": false,
     "input": [
      "%matplotlib inline\n",
      "from __future__ import division\n",
      "from IPython.html.widgets import interactive, fixed\n",
      "from IPython.display import display\n",
      "import numpy as np\n",
      "import matplotlib.pyplot as plt\n",
      "plt.rc('font', size=12)"
     ],
     "language": "python",
     "metadata": {},
     "outputs": []
    },
    {
     "cell_type": "code",
     "collapsed": false,
     "input": [
      "def gera_dados(v1, v2, h):\n",
      "    z = np.array([h/2, h, 3*h/2, 2*h])\n",
      "    distancia_em_1 = np.array([h/2, h, h, h])\n",
      "    distancia_em_2 = np.array([0, 0, h/2, h])\n",
      "    t = distancia_em_1/v1 + distancia_em_2/v2\n",
      "    return z, t"
     ],
     "language": "python",
     "metadata": {},
     "outputs": []
    },
    {
     "cell_type": "markdown",
     "metadata": {},
     "source": [
      "## Gerando dados sint\u00e9ticos"
     ]
    },
    {
     "cell_type": "code",
     "collapsed": false,
     "input": [
      "h = 10"
     ],
     "language": "python",
     "metadata": {},
     "outputs": []
    },
    {
     "cell_type": "code",
     "collapsed": false,
     "input": [
      "z, t = gera_dados(100, 200, h)\n",
      "z, t"
     ],
     "language": "python",
     "metadata": {},
     "outputs": []
    },
    {
     "cell_type": "code",
     "collapsed": false,
     "input": [
      "def plota_dados(z, t, h):\n",
      "    fig = plt.figure(figsize=(8, 6))\n",
      "    ax = plt.axes()\n",
      "    lims = [0.5*t.min(), 1.2*t.max()]\n",
      "    ax.fill_between(lims, [h, h], y2=z.max(), color='grey', alpha=0.5)\n",
      "    ax.plot(t, z, '^-k', linewidth=2, markersize=10, markerfacecolor='b')\n",
      "    ax.set_ylim(0, 1.2*z.max())\n",
      "    ax.set_xlim(lims)\n",
      "    ax.invert_yaxis()\n",
      "    ax.set_xlabel('Tempo de chegada (s)')\n",
      "    ax.set_ylabel('Profuncidade (m)')\n",
      "    return ax"
     ],
     "language": "python",
     "metadata": {},
     "outputs": []
    },
    {
     "cell_type": "code",
     "collapsed": false,
     "input": [
      "plota_dados(z, t, h)"
     ],
     "language": "python",
     "metadata": {},
     "outputs": []
    },
    {
     "cell_type": "code",
     "collapsed": false,
     "input": [
      "def gerador_sintetico(v1, v2, h):\n",
      "    z, t = gera_dados(v1, v2, h)\n",
      "    plota_dados(z, t, h)\n",
      "    return z, t"
     ],
     "language": "python",
     "metadata": {},
     "outputs": []
    },
    {
     "cell_type": "code",
     "collapsed": false,
     "input": [
      "widget = interactive(gerador_sintetico, v1=(500, 4000, 100), v2=(500, 4000, 100), h=fixed(h))\n",
      "display(widget)"
     ],
     "language": "python",
     "metadata": {},
     "outputs": []
    },
    {
     "cell_type": "markdown",
     "metadata": {},
     "source": [
      "## Um toque de realidade: adicionando ru\u00eddo aleat\u00f3rio"
     ]
    },
    {
     "cell_type": "code",
     "collapsed": false,
     "input": [
      "def gerador_sintetico_ruido(v1, v2, h, ruido):\n",
      "    z, t = gera_dados(v1, v2, h)\n",
      "    t_ruido = t.copy()\n",
      "    if ruido > 0:\n",
      "        ruido = np.abs(t).max()*0.01*ruido\n",
      "        t_ruido += np.random.normal(loc=0, scale=ruido, size=t.size)\n",
      "    ax = plota_dados(z, t_ruido, h)\n",
      "    ax.plot(t, z, 'o--r')\n",
      "    return z, t_ruido"
     ],
     "language": "python",
     "metadata": {},
     "outputs": []
    },
    {
     "cell_type": "code",
     "collapsed": false,
     "input": [
      "widget = interactive(gerador_sintetico_ruido, v1=(500, 4000, 100), v2=(500, 4000, 100), \n",
      "                     h=fixed(h), ruido=(0, 30, 1))\n",
      "display(widget)"
     ],
     "language": "python",
     "metadata": {},
     "outputs": []
    },
    {
     "cell_type": "markdown",
     "metadata": {},
     "source": [
      "## Modelagem direta"
     ]
    },
    {
     "cell_type": "code",
     "collapsed": false,
     "input": [
      "z, dado = np.loadtxt('vsp-2camadas-dados.txt')"
     ],
     "language": "python",
     "metadata": {},
     "outputs": []
    },
    {
     "cell_type": "code",
     "collapsed": false,
     "input": [
      "def modelagem_direta(z, t, h):\n",
      "    def calcula_plota(v1, v2):\n",
      "        t_predito = gera_dados(v1, v2, h)[1]\n",
      "        ax = plota_dados(z, t, h)\n",
      "        ax.plot(t_predito, z, 'o--k', linewidth=2)\n",
      "        return v1, v2\n",
      "    widget = interactive(calcula_plota, v1=(100, 4000, 10), v2=(100, 4000, 10))\n",
      "    return widget"
     ],
     "language": "python",
     "metadata": {},
     "outputs": []
    },
    {
     "cell_type": "code",
     "collapsed": false,
     "input": [
      "widget = modelagem_direta(z, dado, h)\n",
      "display(widget)"
     ],
     "language": "python",
     "metadata": {},
     "outputs": []
    },
    {
     "cell_type": "markdown",
     "metadata": {},
     "source": [
      "O seu resultado."
     ]
    },
    {
     "cell_type": "code",
     "collapsed": false,
     "input": [
      "widget.result"
     ],
     "language": "python",
     "metadata": {},
     "outputs": []
    },
    {
     "cell_type": "markdown",
     "metadata": {},
     "source": [
      "O verdadeiro."
     ]
    },
    {
     "cell_type": "code",
     "collapsed": false,
     "input": [
      "with open('vsp-2camadas-resultado.txt') as f:\n",
      "    print(f.read())"
     ],
     "language": "python",
     "metadata": {},
     "outputs": []
    },
    {
     "cell_type": "markdown",
     "metadata": {},
     "source": [
      "## A matriz de sensibilidade"
     ]
    },
    {
     "cell_type": "code",
     "collapsed": false,
     "input": [
      "def sensibilidade(h):\n",
      "    ndados = 4\n",
      "    nparametros = 2\n",
      "    A = np.empty((ndados, nparametros))\n",
      "    A[:, 0] = [h/2, h, h, h]\n",
      "    A[:, 1] = [0, 0, h/2, h]\n",
      "    return A"
     ],
     "language": "python",
     "metadata": {},
     "outputs": []
    },
    {
     "cell_type": "code",
     "collapsed": false,
     "input": [
      "A = sensibilidade(h)\n",
      "A"
     ],
     "language": "python",
     "metadata": {},
     "outputs": []
    },
    {
     "cell_type": "code",
     "collapsed": false,
     "input": [
      "p = np.array([1/1000, 1/2000])\n",
      "d = np.dot(A, p)\n",
      "d"
     ],
     "language": "python",
     "metadata": {},
     "outputs": []
    },
    {
     "cell_type": "code",
     "collapsed": false,
     "input": [
      "gera_dados(1000, 2000, h)[1]"
     ],
     "language": "python",
     "metadata": {},
     "outputs": []
    }
   ],
   "metadata": {}
  }
 ]
}