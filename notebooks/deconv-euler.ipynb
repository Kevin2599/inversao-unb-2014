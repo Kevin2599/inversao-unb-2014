{
 "metadata": {
  "name": "",
  "signature": "sha256:0d7ef085ac0ebc300f0c373d0ace3272794973d9eeac9370a9919851d1560294"
 },
 "nbformat": 3,
 "nbformat_minor": 0,
 "worksheets": [
  {
   "cells": [
    {
     "cell_type": "markdown",
     "metadata": {},
     "source": [
      "**Course website**: https://github.com/pinga-lab/inversao-unb-2014\n",
      "\n",
      "**Note**: This notebook is part of the course \"T\u00f3picos de invers\u00e3o em geof\u00edsica\". \n",
      "All content can be freely used and adapted under the terms of the \n",
      "[Creative Commons Attribution 4.0 International License](http://creativecommons.org/licenses/by/4.0/).\n",
      "\n",
      "![Creative Commons License](https://i.creativecommons.org/l/by/4.0/88x31.png)"
     ]
    },
    {
     "cell_type": "markdown",
     "metadata": {},
     "source": [
      "# Pratica: Deconvolu\u00e7\u00e3o de Euler"
     ]
    },
    {
     "cell_type": "markdown",
     "metadata": {},
     "source": [
      "## Dados sint\u00e9ticos: 1 esfera"
     ]
    },
    {
     "cell_type": "code",
     "collapsed": false,
     "input": [
      "%matplotlib inline\n",
      "from __future__ import division\n",
      "from IPython.html.widgets import interactive, fixed\n",
      "from IPython.display import display\n",
      "import numpy as np\n",
      "from fatiando.gravmag import prism, sphere, fourier\n",
      "from fatiando.gravmag.euler import MovingWindow, Classic\n",
      "from fatiando.mesher import Prism, Sphere\n",
      "from fatiando.vis import mpl, myv\n",
      "from fatiando import utils, gridder\n",
      "import fatiando\n",
      "mpl.rc('font', size=12)"
     ],
     "language": "python",
     "metadata": {},
     "outputs": []
    },
    {
     "cell_type": "code",
     "collapsed": false,
     "input": [
      "fatiando.__version__"
     ],
     "language": "python",
     "metadata": {},
     "outputs": []
    },
    {
     "cell_type": "code",
     "collapsed": false,
     "input": [
      "inc, dec = -35, 20\n",
      "modelo = [Sphere(500, 1000, 800, 500, {'magnetization': utils.ang2vec(10, inc, dec)})]\n",
      "shape = (41, 41)\n",
      "area = (-5e3, 5e3, -5e3, 5e3)\n",
      "x, y, z = gridder.regular(area, shape, z=-500)\n",
      "h = sphere.tf(x, y, z, modelo, inc, dec) + 50"
     ],
     "language": "python",
     "metadata": {},
     "outputs": []
    },
    {
     "cell_type": "code",
     "collapsed": false,
     "input": [
      "h"
     ],
     "language": "python",
     "metadata": {},
     "outputs": []
    },
    {
     "cell_type": "code",
     "collapsed": false,
     "input": [
      "mpl.figure()\n",
      "mpl.axis('scaled')\n",
      "mpl.contourf(y, x, h, shape, 30, cmap=mpl.cm.RdBu_r)\n",
      "mpl.colorbar(pad=0).set_label('nT')"
     ],
     "language": "python",
     "metadata": {},
     "outputs": []
    },
    {
     "cell_type": "code",
     "collapsed": false,
     "input": [
      "hx = fourier.derivx(x, y, h, shape)\n",
      "hy = fourier.derivy(x, y, h, shape)\n",
      "hz = fourier.derivz(x, y, h, shape)\n",
      "hx"
     ],
     "language": "python",
     "metadata": {},
     "outputs": []
    },
    {
     "cell_type": "code",
     "collapsed": false,
     "input": [
      "fig, axes = mpl.subplots(1, 3, figsize=(14, 4), sharey='all')\n",
      "for ax, f, t in zip(axes, [hx, hy, hz], ['hx', 'hy', 'hz']):\n",
      "    mpl.sca(ax)\n",
      "    mpl.title(t)\n",
      "    ax.set_aspect('equal')\n",
      "    mpl.contourf(y, x, f, shape, 30, cmap=mpl.cm.RdBu_r)\n",
      "    mpl.colorbar(pad=0)\n",
      "mpl.tight_layout(pad=0, w_pad=0)"
     ],
     "language": "python",
     "metadata": {},
     "outputs": []
    },
    {
     "cell_type": "markdown",
     "metadata": {},
     "source": [
      "## Matriz  de sensibilidade"
     ]
    },
    {
     "cell_type": "code",
     "collapsed": false,
     "input": [
      "def sensibilidade(indice, hx, hy, hz):\n",
      "    nparametros = 4\n",
      "    ndados = hx.size\n",
      "    A = np.empty((ndados, nparametros))\n",
      "    A[:, 0] = hx\n",
      "    A[:, 1] = hy\n",
      "    A[:, 2] = hz\n",
      "    A[:, 3] = indice\n",
      "    return A"
     ],
     "language": "python",
     "metadata": {},
     "outputs": []
    },
    {
     "cell_type": "code",
     "collapsed": false,
     "input": [
      "indice = 3"
     ],
     "language": "python",
     "metadata": {},
     "outputs": []
    },
    {
     "cell_type": "code",
     "collapsed": false,
     "input": [
      "A = sensibilidade(indice, hx, hy, hz)"
     ],
     "language": "python",
     "metadata": {},
     "outputs": []
    },
    {
     "cell_type": "code",
     "collapsed": false,
     "input": [
      "print(np.array2string(A, precision=2, max_line_width=150))"
     ],
     "language": "python",
     "metadata": {},
     "outputs": []
    },
    {
     "cell_type": "markdown",
     "metadata": {},
     "source": [
      "## Estimativa de m\u00ednimos quadrados"
     ]
    },
    {
     "cell_type": "code",
     "collapsed": false,
     "input": [
      "ATA = np.dot(A.T, A)"
     ],
     "language": "python",
     "metadata": {},
     "outputs": []
    },
    {
     "cell_type": "code",
     "collapsed": false,
     "input": [
      "dado = indice*h + x*hx + y*hy + z*hz"
     ],
     "language": "python",
     "metadata": {},
     "outputs": []
    },
    {
     "cell_type": "code",
     "collapsed": false,
     "input": [
      "p = np.linalg.solve(ATA, np.dot(A.T, dado))"
     ],
     "language": "python",
     "metadata": {},
     "outputs": []
    },
    {
     "cell_type": "code",
     "collapsed": false,
     "input": [
      "print('x={p[0]:.3f} y={p[1]:.3f} z={p[2]:.3f} b={p[3]:.3f}'.format(p=p))"
     ],
     "language": "python",
     "metadata": {},
     "outputs": []
    },
    {
     "cell_type": "markdown",
     "metadata": {},
     "source": [
      "## Sensibilidade ao erro e indice estrutural"
     ]
    },
    {
     "cell_type": "code",
     "collapsed": false,
     "input": [
      "def calcula_plota(ruido, indice):\n",
      "    if ruido > 0:\n",
      "        ruido = ruido*0.01*np.abs(h).max()\n",
      "        np.random.seed(0)\n",
      "        h_ruido = h + np.random.normal(loc=0, scale=ruido, size=h.size)\n",
      "    else:\n",
      "        h_ruido = h\n",
      "    hx = fourier.derivx(x, y, h_ruido, shape)\n",
      "    hy = fourier.derivy(x, y, h_ruido, shape)\n",
      "    hz = fourier.derivz(x, y, h_ruido, shape)\n",
      "    A = sensibilidade(indice, hx, hy, hz)\n",
      "    dado = indice*h_ruido + x*hx + y*hy + z*hz\n",
      "    p = np.linalg.solve(np.dot(A.T, A), np.dot(A.T, dado))\n",
      "    # Graficos\n",
      "    mpl.figure(figsize=(8, 7))\n",
      "    mpl.suptitle('x={p[0]:.3f} y={p[1]:.3f} z={p[2]:.3f} b={p[3]:.3f}'.format(p=p))\n",
      "    ax = mpl.subplot(2, 2, 1)\n",
      "    mpl.contourf(y, x, h_ruido, shape, 20, cmap=mpl.cm.RdBu_r)\n",
      "    mpl.plot(p[1], p[0], 'ok', markersize=10)\n",
      "    mpl.text(-4.5e3, 4e3, 'h', fontsize=18)\n",
      "    ax.set_xticklabels([])\n",
      "    ax.set_yticklabels([])\n",
      "    mpl.grid()\n",
      "    ax = mpl.subplot(2, 2, 2)\n",
      "    mpl.plot(0, p[2], 'ok', markersize=10)\n",
      "    mpl.text(-0.8, -300, 'z0', fontsize=18)\n",
      "    mpl.ylim(1000, -500)\n",
      "    mpl.xlim(-1, 1)\n",
      "    ax.set_xticklabels([])\n",
      "    ax.yaxis.tick_right()\n",
      "    mpl.grid()\n",
      "    ax = mpl.subplot(2, 3, 4)\n",
      "    mpl.contourf(y, x, hx, shape, 20, cmap=mpl.cm.RdBu_r)\n",
      "    mpl.text(-4.5e3, 4e3, 'hx', fontsize=18)\n",
      "    ax.set_xticklabels([])\n",
      "    ax.set_yticklabels([])\n",
      "    ax = mpl.subplot(2, 3, 5)\n",
      "    mpl.contourf(y, x, hy, shape, 20, cmap=mpl.cm.RdBu_r)\n",
      "    mpl.text(-4.5e3, 4e3, 'hy', fontsize=18)\n",
      "    ax.set_xticklabels([])\n",
      "    ax.set_yticklabels([])\n",
      "    ax = mpl.subplot(2, 3, 6)\n",
      "    mpl.contourf(y, x, hz, shape, 20, cmap=mpl.cm.RdBu_r)    \n",
      "    mpl.text(-4.5e3, 4e3, 'hz', fontsize=18)\n",
      "    ax.set_xticklabels([])\n",
      "    ax.set_yticklabels([])\n",
      "    mpl.subplots_adjust(left=0, right=1, top=0.95, bottom=0, wspace=0, hspace=0)"
     ],
     "language": "python",
     "metadata": {},
     "outputs": []
    },
    {
     "cell_type": "code",
     "collapsed": false,
     "input": [
      "interactive(calcula_plota, ruido=(0, 5, 0.1), indice=(1, 3, 1))"
     ],
     "language": "python",
     "metadata": {},
     "outputs": []
    },
    {
     "cell_type": "markdown",
     "metadata": {},
     "source": [
      "## Euler por janelas"
     ]
    },
    {
     "cell_type": "code",
     "collapsed": false,
     "input": [
      "modelo2 = [Sphere(1000, 1000, 1000, 800, {'magnetization': utils.ang2vec(5, inc, dec)}),\n",
      "           Sphere(-1000, -1000, 500, 400, {'magnetization': utils.ang2vec(10, inc, dec)})]\n",
      "h2 = sphere.tf(x, y, z, modelo2, inc, dec) + 50"
     ],
     "language": "python",
     "metadata": {},
     "outputs": []
    },
    {
     "cell_type": "code",
     "collapsed": false,
     "input": [
      "mpl.figure()\n",
      "mpl.axis('scaled')\n",
      "mpl.contourf(y, x, h2, shape, 30, cmap=mpl.cm.RdBu_r)\n",
      "mpl.colorbar(pad=0).set_label('nT')"
     ],
     "language": "python",
     "metadata": {},
     "outputs": []
    },
    {
     "cell_type": "code",
     "collapsed": false,
     "input": [
      "hx2 = fourier.derivx(x, y, h2, shape)\n",
      "hy2 = fourier.derivy(x, y, h2, shape)\n",
      "hz2 = fourier.derivz(x, y, h2, shape)"
     ],
     "language": "python",
     "metadata": {},
     "outputs": []
    },
    {
     "cell_type": "code",
     "collapsed": false,
     "input": [
      "euler = MovingWindow(Classic(x, y, z, h2, hx2, hy2, hz2, 3), \n",
      "                     windows=(10, 10), size=(1000, 1000), keep=0.15)\n",
      "euler.fit()"
     ],
     "language": "python",
     "metadata": {},
     "outputs": []
    },
    {
     "cell_type": "code",
     "collapsed": false,
     "input": [
      "euler.estimate_"
     ],
     "language": "python",
     "metadata": {},
     "outputs": []
    },
    {
     "cell_type": "code",
     "collapsed": false,
     "input": [
      "x0, y0, z0 = np.transpose([e for e in euler.estimate_ if e[2] > 0])\n",
      "mpl.figure(figsize=(8, 6))\n",
      "mpl.contourf(y, x, h2, shape, 30, cmap=mpl.cm.RdBu_r)\n",
      "mpl.scatter(y0, x0, c=z0, s=80, cmap=mpl.cm.Purples, vmin=0, vmax=1500)\n",
      "mpl.colorbar(pad=0).set_label('z0')\n",
      "mpl.set_area(area)"
     ],
     "language": "python",
     "metadata": {},
     "outputs": []
    },
    {
     "cell_type": "code",
     "collapsed": false,
     "input": [
      "def calcula_plota_janelas(ruido, indice, janelas, tamanho):\n",
      "    if ruido > 0:\n",
      "        ruido = ruido*0.01*np.abs(h2).max()\n",
      "        np.random.seed(0)\n",
      "        h_ruido = h2 + np.random.normal(loc=0, scale=ruido, size=h2.size)\n",
      "    else:\n",
      "        h_ruido = h2\n",
      "    hx = fourier.derivx(x, y, h_ruido, shape)\n",
      "    hy = fourier.derivy(x, y, h_ruido, shape)\n",
      "    hz = fourier.derivz(x, y, h_ruido, shape)\n",
      "    euler = MovingWindow(Classic(x, y, z, h_ruido, hx, hy, hz, indice), \n",
      "                         windows=(janelas, janelas), \n",
      "                         size=(tamanho, tamanho), keep=0.3)\n",
      "    euler.fit()\n",
      "    filtrado = [e for e in euler.estimate_ if e[2] > 0]\n",
      "    # Graficos\n",
      "    mpl.figure(figsize=(8, 6))\n",
      "    mpl.title('Solucoes: {} total | {} validas'.format(len(euler.estimate_), len(filtrado)))\n",
      "    mpl.axis('scaled')\n",
      "    mpl.contourf(y, x, h_ruido, shape, 20, cmap=mpl.cm.RdBu_r)\n",
      "    if filtrado:\n",
      "        x0, y0, z0 = np.transpose(filtrado)\n",
      "        mpl.scatter(y0, x0, c=z0, s=80, cmap=mpl.cm.RdYlGn, vmin=0, vmax=1500)\n",
      "        mpl.colorbar(pad=0)\n",
      "    mpl.grid()\n",
      "    mpl.tight_layout(pad=0)"
     ],
     "language": "python",
     "metadata": {},
     "outputs": []
    },
    {
     "cell_type": "code",
     "collapsed": false,
     "input": [
      "interactive(calcula_plota_janelas, ruido=(0, 5, 0.1), indice=(1, 3, 1), janelas=(6, 30, 2), tamanho=(500, 5000, 250))"
     ],
     "language": "python",
     "metadata": {},
     "outputs": []
    }
   ],
   "metadata": {}
  }
 ]
}